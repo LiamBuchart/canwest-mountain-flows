{
 "cells": [
  {
   "cell_type": "markdown",
   "id": "ccda5616",
   "metadata": {
    "lines_to_next_cell": 2
   },
   "source": [
    "# A Markdown cell\n",
    "- You can do all the fun stuff markdown has to offer"
   ]
  },
  {
   "cell_type": "code",
   "execution_count": null,
   "id": "9f25c1e3",
   "metadata": {},
   "outputs": [],
   "source": [
    "# # Imports\n",
    "import pandas as pd\n",
    "import folium"
   ]
  },
  {
   "cell_type": "code",
   "execution_count": null,
   "id": "f1b6bd12",
   "metadata": {},
   "outputs": [],
   "source": [
    "my_map = folium.Map(location=[50, -122], \n",
    "                    zoom_start=4)\n",
    "\n",
    "folium.TileLayer('Stamen Terrain').add_to(my_map)\n",
    "my_map.add_child(folium.map.LayerControl())\n",
    "\n",
    "my_map # display map"
   ]
  }
 ],
 "metadata": {
  "jupytext": {
   "cell_metadata_filter": "-all",
   "main_language": "python",
   "notebook_metadata_filter": "-all"
  },
  "language_info": {
   "name": "python"
  }
 },
 "nbformat": 4,
 "nbformat_minor": 5
}
