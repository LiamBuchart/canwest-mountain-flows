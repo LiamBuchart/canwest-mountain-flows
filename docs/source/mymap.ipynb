{
 "cells": [
  {
   "cell_type": "markdown",
   "id": "6c44e54c",
   "metadata": {},
   "source": []
  },
  {
   "cell_type": "markdown",
   "id": "a1819fce",
   "metadata": {},
   "source": [
    "# A Markdown cell\n",
    "- You can do all the fun stuff markdown has to offer"
   ]
  },
  {
   "cell_type": "markdown",
   "id": "1d13602b",
   "metadata": {
    "lines_to_next_cell": 2
   },
   "source": [
    "## Another Markdown cell"
   ]
  },
  {
   "cell_type": "code",
   "execution_count": null,
   "id": "631481d4",
   "metadata": {
    "lines_to_next_cell": 1
   },
   "outputs": [],
   "source": [
    "# This is a code cell\n",
    "import pandas as pd\n",
    "import plotly.express as pd\n",
    "\n",
    "class A():\n",
    "    def one():\n",
    "        return 1\n",
    "\n",
    "    def two():\n",
    "        return 2"
   ]
  },
  {
   "cell_type": "code",
   "execution_count": null,
   "id": "41d5a762",
   "metadata": {},
   "outputs": [],
   "source": [
    "# This is another code cell\n",
    "import numpy as np\n",
    "\n",
    "mylist = np.arange(0,10)\n",
    "print(f\"this is my list {mylist}\")"
   ]
  }
 ],
 "metadata": {
  "jupytext": {
   "cell_metadata_filter": "-all",
   "main_language": "python",
   "notebook_metadata_filter": "-all"
  }
 },
 "nbformat": 4,
 "nbformat_minor": 5
}
