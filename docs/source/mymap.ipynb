{
 "cells": [
  {
   "cell_type": "markdown",
   "id": "e8251834",
   "metadata": {
    "lines_to_next_cell": 2
   },
   "source": [
    "# A Markdown cell\n",
    "- You can do all the fun stuff markdown has to offer"
   ]
  },
  {
   "cell_type": "code",
   "execution_count": null,
   "id": "b6edc5fb",
   "metadata": {},
   "outputs": [],
   "source": [
    "# Imports\n",
    "import pandas as pd\n",
    "import folium\n",
    "import numpy as np\n",
    "\n",
    "import requests\n",
    "import json\n",
    "import geojson"
   ]
  },
  {
   "cell_type": "markdown",
   "id": "90b7ffd1",
   "metadata": {},
   "source": [
    "# Pull Data from the native-land.ca API\n",
    "Territory and Name overlays come from Native Land Digital \n",
    "---\n",
    "[blue_text](native-land.ca)"
   ]
  },
  {
   "cell_type": "code",
   "execution_count": null,
   "id": "70a40c4d",
   "metadata": {},
   "outputs": [],
   "source": [
    "url = \"https://native-land.ca/wp-json/nativeland/v1/api/index.php\"\n",
    "\n",
    "params = {\n",
    "    \"maps\" : \"territories\",\n",
    "    \"polygon_geojson\" : {\n",
    "        \"type\": \"FeatureCollection\",\n",
    "        \"features\": [\n",
    "            {\n",
    "            \"type\": \"Feature\",\n",
    "            \"properties\": {\"Name\"},\n",
    "            \"geometry\": {\n",
    "            \"type\": \"Polygon\",\n",
    "            \"coordinates\": [\n",
    "            [\n",
    "                [\n",
    "                -113.5,\n",
    "                61.25\n",
    "                ],\n",
    "                [\n",
    "                -160,\n",
    "                61.25\n",
    "                ],\n",
    "                [\n",
    "                -160,\n",
    "                47.25\n",
    "                ],\n",
    "                [\n",
    "                -113.5,\n",
    "                47.25\n",
    "                ],\n",
    "          ]\n",
    "        ]\n",
    "      }\n",
    "    }\n",
    "  ]\n",
    "}    \n",
    "}"
   ]
  },
  {
   "cell_type": "code",
   "execution_count": null,
   "id": "5ae45a7e",
   "metadata": {
    "lines_to_next_cell": 2
   },
   "outputs": [],
   "source": [
    "# download and convert to json\n",
    "response_API = requests.get(url=url, params=params)\n",
    "data = response_API.text\n",
    "\n",
    "#print(data)\n",
    "parse_json = json.loads(data)\n",
    "\n",
    "# geojson\n",
    "territory = {\n",
    "             \"type\": \"FeatureCollection\",\n",
    "             \"features\": response_API\n",
    "}\n",
    "\n",
    "print(territory.items()) \n",
    "print(territory)\n",
    "\n",
    "for ii in range(0, len(parse_json)): \n",
    "  try:\n",
    "    q = 1\n",
    "    #print(list(parse_json[ii].values())[2][\"Name\"])\n",
    "  except:\n",
    "    pass"
   ]
  },
  {
   "cell_type": "markdown",
   "id": "780dd745",
   "metadata": {},
   "source": [
    "# Make the Map"
   ]
  },
  {
   "cell_type": "code",
   "execution_count": null,
   "id": "253d1a08",
   "metadata": {
    "lines_to_next_cell": 0
   },
   "outputs": [],
   "source": [
    "# initialize a map\n",
    "m = folium.Map(location=[55, -122], \n",
    "               zoom_start=4, \n",
    "               tiles=\"openstreetmap\",\n",
    "               name=\"Road Map\")\n",
    "\n",
    "# set map bounds\n",
    "m.fit_bounds([[47.25, -158], [61.25, -113.5]])\n",
    "\n",
    "# add terrain layer\n",
    "tr = folium.TileLayer(\"Stamen Terrain\",\n",
    "                 name=\"Terrain\").add_to(m)\n",
    "\n",
    "# add the native-land overlay\n",
    "folium.GeoJson(territory,\n",
    "               name=\"Territories\").add_to(m)\n",
    "\n",
    "# loop through the native-land data and load data by creating polygon and popup\n",
    "for ii in range(0, len(parse_json)):\n",
    "    try:\n",
    "      #folium.GeoJson(data, \n",
    "      #               name=\"Territories\").add_to(m)\n",
    "      \n",
    "      t = folium.GeoJson(parse_json[ii].values())\n",
    "      t.add_child(folium.Popup(list( parse_json[ii].values() )[2][\"Name\"]))\n",
    "      t.add_to(m)\n",
    "    except:\n",
    "      pass\n",
    "\n",
    "# add the layers to toggle\n",
    "folium.LayerControl().add_to(m)\n",
    "\n",
    "# display\n",
    "m"
   ]
  },
  {
   "cell_type": "code",
   "execution_count": null,
   "id": "cee1e835",
   "metadata": {
    "lines_to_next_cell": 0
   },
   "outputs": [],
   "source": [
    "# Search GitHub's repositories for requests\n",
    "response = requests.get(\n",
    "    'https://native-land.ca/wp-json/nativeland/v1/api/index.php',\n",
    "    params={'q': 'requests+language:python'},\n",
    ")\n",
    "\n",
    "# Inspect some attributes of the `requests` repository\n",
    "json_response = response.json()\n",
    "print(json_response)\n",
    "repository = json_response['items'][0]\n",
    "print(f'Repository name: {repository[\"name\"]}')  # Python 3.6+\n",
    "print(f'Repository description: {repository[\"description\"]}')  # Python 3.6+"
   ]
  },
  {
   "cell_type": "code",
   "execution_count": null,
   "id": "d6255dba",
   "metadata": {},
   "outputs": [],
   "source": []
  }
 ],
 "metadata": {
  "jupytext": {
   "cell_metadata_filter": "-all",
   "main_language": "python",
   "notebook_metadata_filter": "-all"
  }
 },
 "nbformat": 4,
 "nbformat_minor": 5
}
