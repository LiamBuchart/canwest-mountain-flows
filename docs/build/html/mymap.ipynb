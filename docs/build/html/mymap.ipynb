{
 "cells": [
  {
   "cell_type": "markdown",
   "id": "a8e34fd1",
   "metadata": {
    "lines_to_next_cell": 2
   },
   "source": [
    "# A Markdown cell\n",
    "- You can do all the fun stuff markdown has to offer"
   ]
  },
  {
   "cell_type": "code",
   "execution_count": 1,
   "id": "6c06917f",
   "metadata": {
    "execution": {
     "iopub.execute_input": "2022-09-19T22:40:48.444970Z",
     "iopub.status.busy": "2022-09-19T22:40:48.444695Z",
     "iopub.status.idle": "2022-09-19T22:40:49.118513Z",
     "shell.execute_reply": "2022-09-19T22:40:49.118039Z"
    }
   },
   "outputs": [],
   "source": [
    "# Imports\n",
    "import pandas as pd\n",
    "import geopandas as gpd\n",
    "import folium\n",
    "import numpy as np\n",
    "from shapely.geometry import Polygon\n",
    "from shapely.wkt import loads\n",
    "\n",
    "import requests\n",
    "import json\n",
    "import geojson"
   ]
  },
  {
   "cell_type": "markdown",
   "id": "1f3d1417",
   "metadata": {},
   "source": [
    "# Pull Data from the native-land.ca API\n",
    "Territory and Name overlays come from Native Land Digital \n",
    "---\n",
    "[blue_text](native-land.ca)"
   ]
  },
  {
   "cell_type": "code",
   "execution_count": 2,
   "id": "7a6c287d",
   "metadata": {
    "execution": {
     "iopub.execute_input": "2022-09-19T22:40:49.121421Z",
     "iopub.status.busy": "2022-09-19T22:40:49.121134Z",
     "iopub.status.idle": "2022-09-19T22:40:49.125368Z",
     "shell.execute_reply": "2022-09-19T22:40:49.124900Z"
    }
   },
   "outputs": [],
   "source": [
    "url = \"https://native-land.ca/wp-json/nativeland/v1/api/index.php\"\n",
    "\n",
    "params = {\n",
    "    \"maps\" : \"territories\",\n",
    "    \"polygon_geojson\" : {\n",
    "        \"type\": \"FeatureCollection\",\n",
    "        \"features\": [\n",
    "            {\n",
    "            \"type\": \"Feature\",\n",
    "            \"properties\": {\"Name\"},\n",
    "            \"geometry\": {\n",
    "            \"type\": \"Polygon\",\n",
    "            \"coordinates\": [\n",
    "            [\n",
    "                [\n",
    "                -113.5,\n",
    "                61.25\n",
    "                ],\n",
    "                [\n",
    "                -160,\n",
    "                61.25\n",
    "                ],\n",
    "                [\n",
    "                -160,\n",
    "                47.25\n",
    "                ],\n",
    "                [\n",
    "                -113.5,\n",
    "                47.25\n",
    "                ],\n",
    "          ]\n",
    "        ]\n",
    "      }\n",
    "    }\n",
    "  ]\n",
    "}    \n",
    "}"
   ]
  },
  {
   "cell_type": "code",
   "execution_count": 3,
   "id": "f77cdba3",
   "metadata": {
    "execution": {
     "iopub.execute_input": "2022-09-19T22:40:49.127916Z",
     "iopub.status.busy": "2022-09-19T22:40:49.127694Z",
     "iopub.status.idle": "2022-09-19T22:40:50.881239Z",
     "shell.execute_reply": "2022-09-19T22:40:50.880680Z"
    }
   },
   "outputs": [],
   "source": [
    "# download and convert to json\n",
    "response_API = requests.get(url=url, params=params)\n",
    "data = response_API.text\n",
    "\n",
    "#print(data)\n",
    "parse_json = json.loads(data)\n",
    "\n",
    "# geojson\n",
    "territory = {\n",
    "             \"type\": \"FeatureCollection\",\n",
    "             \"features\": response_API\n",
    "}"
   ]
  },
  {
   "cell_type": "code",
   "execution_count": 4,
   "id": "b7cee896",
   "metadata": {
    "execution": {
     "iopub.execute_input": "2022-09-19T22:40:50.884230Z",
     "iopub.status.busy": "2022-09-19T22:40:50.884021Z",
     "iopub.status.idle": "2022-09-19T22:40:50.891825Z",
     "shell.execute_reply": "2022-09-19T22:40:50.891349Z"
    }
   },
   "outputs": [
    {
     "name": "stdout",
     "output_type": "stream",
     "text": [
      "The dataframe: \n",
      "id                             d6479d196b7bb5f5408fd83ff93c9e71\n",
      "type                                                    Feature\n",
      "properties    {'Name': 'Ngemba', 'ID': 37121, 'Slug': 'ngemb...\n",
      "geometry      {'coordinates': [[[145.77743021, -30.71123253]...\n",
      "Name: 0, dtype: object\n"
     ]
    }
   ],
   "source": [
    "# load the file into a format for plotting\n",
    "\n",
    "#print(list(parse_json)[3].items())\n",
    "\n",
    "# load the json file in a geopandas dataframe thats easier to work with\n",
    "gdf = gpd.GeoDataFrame(parse_json)\n",
    "print(\"The dataframe: \")\n",
    "#print(type(gdf[\"geometry\"]))\n",
    "#print(gdf[\"geometry\"].astype(\"string\").iloc[0])\n",
    "#gdf = gdf[\"geometry\"].apply(loads)\n",
    "#gdf[\"geometry\"] = gdf[\"geometry\"].astype(\"string\")\n",
    "gdf = gdf.iloc[0]\n",
    "print(gdf)\n",
    "gdf.crs = \"epsg:4326\"\n",
    "gdf.to_crs = {'init' :'epsg:4326'}\n",
    "#geom = np.array(list(gdf[\"geometry\"].values()))\n",
    "#gdf[\"geometry\"] = geom\n",
    "#print(gdf)\n",
    "#gdf[\"geometry\"] = list(gdf[\"geometry\"].values())[0])\n",
    "#gdf[\"geometry\"] = gdf[\"geometry\"].astype(\"string\") #, dtype=\"string\" #list(gdf[\"geometry\"].values())\n",
    "#print(gdf[\"geometry\"])\n",
    "#geom = list(gdf[\"geometry\"].values())\n",
    "#print(\"NEXT\")\n",
    "#print(np.array(geom[0]))\n",
    "#print(type(gdf[\"geometry\"]), type(geom[0]), len(geom)) \n",
    "#gdf2 = gdf.set_geometry(\"geometry\")                                             \n",
    "#gdf = gdf[\"geometry\"].apply(loads)\n",
    "\n",
    "\n",
    "#print(gdf.columns)\n",
    "#print(gdf.head())\n",
    "#poly = Polygon(list(gdf[\"geometry\"]))\n",
    "#gdf.set_geometry(Polygon(gdf[\"geometry\"]))\n",
    "\n",
    "\n",
    "#gdf = gpd.GeoDataFrame(data).set_geometry('geometry')\n",
    "\n",
    "#print(gdf2)"
   ]
  },
  {
   "cell_type": "markdown",
   "id": "d656f78a",
   "metadata": {},
   "source": [
    "# Make the Map"
   ]
  },
  {
   "cell_type": "code",
   "execution_count": 5,
   "id": "d2443cd4",
   "metadata": {
    "execution": {
     "iopub.execute_input": "2022-09-19T22:40:50.894454Z",
     "iopub.status.busy": "2022-09-19T22:40:50.894203Z",
     "iopub.status.idle": "2022-09-19T22:40:51.385719Z",
     "shell.execute_reply": "2022-09-19T22:40:51.385206Z"
    }
   },
   "outputs": [
    {
     "ename": "ValueError",
     "evalue": "Cannot render objects with any missing geometries: id                             d6479d196b7bb5f5408fd83ff93c9e71\ntype                                                    Feature\nproperties    {'Name': 'Ngemba', 'ID': 37121, 'Slug': 'ngemb...\ngeometry      {'coordinates': [[[145.77743021, -30.71123253]...\nName: 0, dtype: object",
     "output_type": "error",
     "traceback": [
      "\u001b[0;31m---------------------------------------------------------------------------\u001b[0m",
      "\u001b[0;31mValueError\u001b[0m                                Traceback (most recent call last)",
      "Input \u001b[0;32mIn [5]\u001b[0m, in \u001b[0;36m<cell line: 18>\u001b[0;34m()\u001b[0m\n\u001b[1;32m     11\u001b[0m tr \u001b[38;5;241m=\u001b[39m folium\u001b[38;5;241m.\u001b[39mTileLayer(\u001b[38;5;124m\"\u001b[39m\u001b[38;5;124mStamen Terrain\u001b[39m\u001b[38;5;124m\"\u001b[39m,\n\u001b[1;32m     12\u001b[0m                  name\u001b[38;5;241m=\u001b[39m\u001b[38;5;124m\"\u001b[39m\u001b[38;5;124mTerrain\u001b[39m\u001b[38;5;124m\"\u001b[39m)\u001b[38;5;241m.\u001b[39madd_to(m)\n\u001b[1;32m     14\u001b[0m \u001b[38;5;66;03m# add the native-land overlay\u001b[39;00m\n\u001b[1;32m     15\u001b[0m \u001b[38;5;66;03m#print(type(folium.Popup(list( parse_json[ii].values() )[2][\"Name\"])))\u001b[39;00m\n\u001b[1;32m     16\u001b[0m \n\u001b[1;32m     17\u001b[0m \u001b[38;5;66;03m# data\u001b[39;00m\n\u001b[0;32m---> 18\u001b[0m \u001b[43mfolium\u001b[49m\u001b[38;5;241;43m.\u001b[39;49m\u001b[43mGeoJson\u001b[49m\u001b[43m(\u001b[49m\u001b[43mgdf\u001b[49m\u001b[43m,\u001b[49m\n\u001b[1;32m     19\u001b[0m \u001b[43m               \u001b[49m\u001b[43mname\u001b[49m\u001b[38;5;241;43m=\u001b[39;49m\u001b[38;5;124;43m\"\u001b[39;49m\u001b[38;5;124;43mTerritories\u001b[39;49m\u001b[38;5;124;43m\"\u001b[39;49m\u001b[43m,\u001b[49m\n\u001b[1;32m     20\u001b[0m \u001b[43m               \u001b[49m\u001b[43mshow\u001b[49m\u001b[38;5;241;43m=\u001b[39;49m\u001b[38;5;28;43;01mFalse\u001b[39;49;00m\u001b[43m,\u001b[49m\n\u001b[1;32m     21\u001b[0m \u001b[43m               \u001b[49m\u001b[43mpopup\u001b[49m\u001b[38;5;241;43m=\u001b[39;49m\u001b[38;5;124;43m\"\u001b[39;49m\u001b[38;5;124;43mTest\u001b[39;49m\u001b[38;5;124;43m\"\u001b[39;49m\u001b[43m,\u001b[49m\n\u001b[1;32m     22\u001b[0m \u001b[43m               \u001b[49m\u001b[43mzoom_on_click\u001b[49m\u001b[38;5;241;43m=\u001b[39;49m\u001b[38;5;28;43;01mTrue\u001b[39;49;00m\u001b[43m)\u001b[49m\u001b[38;5;241m.\u001b[39madd_to(m)\n\u001b[1;32m     25\u001b[0m \u001b[38;5;66;03m# loop through the native-land data and load data by creating polygon and popup\u001b[39;00m\n\u001b[1;32m     26\u001b[0m \u001b[38;5;66;03m#for ii in range(0, len(parse_json)):\u001b[39;00m\n\u001b[1;32m     27\u001b[0m \u001b[38;5;66;03m#    try:\u001b[39;00m\n\u001b[0;32m   (...)\u001b[0m\n\u001b[1;32m     36\u001b[0m \n\u001b[1;32m     37\u001b[0m \u001b[38;5;66;03m# add the layers to toggle\u001b[39;00m\n\u001b[1;32m     38\u001b[0m folium\u001b[38;5;241m.\u001b[39mLayerControl()\u001b[38;5;241m.\u001b[39madd_to(m)\n",
      "File \u001b[0;32m~/opt/miniconda3/envs/wfrt/lib/python3.9/site-packages/folium/features.py:499\u001b[0m, in \u001b[0;36mGeoJson.__init__\u001b[0;34m(self, data, style_function, highlight_function, name, overlay, control, show, smooth_factor, tooltip, embed, popup, zoom_on_click, marker)\u001b[0m\n\u001b[1;32m    496\u001b[0m         \u001b[38;5;28;01mraise\u001b[39;00m \u001b[38;5;167;01mTypeError\u001b[39;00m(\u001b[38;5;124m\"\u001b[39m\u001b[38;5;124mOnly Marker, Circle, and CircleMarker are supported as GeoJson marker types.\u001b[39m\u001b[38;5;124m\"\u001b[39m)\n\u001b[1;32m    497\u001b[0m \u001b[38;5;28mself\u001b[39m\u001b[38;5;241m.\u001b[39mmarker \u001b[38;5;241m=\u001b[39m marker\n\u001b[0;32m--> 499\u001b[0m \u001b[38;5;28mself\u001b[39m\u001b[38;5;241m.\u001b[39mdata \u001b[38;5;241m=\u001b[39m \u001b[38;5;28;43mself\u001b[39;49m\u001b[38;5;241;43m.\u001b[39;49m\u001b[43mprocess_data\u001b[49m\u001b[43m(\u001b[49m\u001b[43mdata\u001b[49m\u001b[43m)\u001b[49m\n\u001b[1;32m    501\u001b[0m \u001b[38;5;28;01mif\u001b[39;00m \u001b[38;5;28mself\u001b[39m\u001b[38;5;241m.\u001b[39mstyle \u001b[38;5;129;01mor\u001b[39;00m \u001b[38;5;28mself\u001b[39m\u001b[38;5;241m.\u001b[39mhighlight:\n\u001b[1;32m    502\u001b[0m     \u001b[38;5;28mself\u001b[39m\u001b[38;5;241m.\u001b[39mconvert_to_feature_collection()\n",
      "File \u001b[0;32m~/opt/miniconda3/envs/wfrt/lib/python3.9/site-packages/folium/features.py:544\u001b[0m, in \u001b[0;36mGeoJson.process_data\u001b[0;34m(self, data)\u001b[0m\n\u001b[1;32m    542\u001b[0m     \u001b[38;5;28;01mreturn\u001b[39;00m json\u001b[38;5;241m.\u001b[39mloads(json\u001b[38;5;241m.\u001b[39mdumps(data\u001b[38;5;241m.\u001b[39m__geo_interface__))\n\u001b[1;32m    543\u001b[0m \u001b[38;5;28;01melse\u001b[39;00m:\n\u001b[0;32m--> 544\u001b[0m     \u001b[38;5;28;01mraise\u001b[39;00m \u001b[38;5;167;01mValueError\u001b[39;00m(\u001b[38;5;124m'\u001b[39m\u001b[38;5;124mCannot render objects with any missing geometries\u001b[39m\u001b[38;5;124m'\u001b[39m\n\u001b[1;32m    545\u001b[0m                      \u001b[38;5;124m'\u001b[39m\u001b[38;5;124m: \u001b[39m\u001b[38;5;132;01m{!r}\u001b[39;00m\u001b[38;5;124m'\u001b[39m\u001b[38;5;241m.\u001b[39mformat(data))\n",
      "\u001b[0;31mValueError\u001b[0m: Cannot render objects with any missing geometries: id                             d6479d196b7bb5f5408fd83ff93c9e71\ntype                                                    Feature\nproperties    {'Name': 'Ngemba', 'ID': 37121, 'Slug': 'ngemb...\ngeometry      {'coordinates': [[[145.77743021, -30.71123253]...\nName: 0, dtype: object"
     ]
    }
   ],
   "source": [
    "# initialize a map\n",
    "m = folium.Map(location=[55, -122], \n",
    "               zoom_start=4, \n",
    "               tiles=\"openstreetmap\",\n",
    "               name=\"Road Map\")\n",
    "\n",
    "# set map bounds\n",
    "m.fit_bounds([[47.25, -158], [61.25, -113.5]])\n",
    "\n",
    "# add terrain layer\n",
    "tr = folium.TileLayer(\"Stamen Terrain\",\n",
    "                 name=\"Terrain\").add_to(m)\n",
    "\n",
    "# add the native-land overlay\n",
    "#print(type(folium.Popup(list( parse_json[ii].values() )[2][\"Name\"])))\n",
    "\n",
    "# data\n",
    "folium.GeoJson(gdf,\n",
    "               name=\"Territories\",\n",
    "               show=False,\n",
    "               popup=\"Test\",\n",
    "               zoom_on_click=True).add_to(m)\n",
    "\n",
    "\n",
    "# loop through the native-land data and load data by creating polygon and popup\n",
    "#for ii in range(0, len(parse_json)):\n",
    "#    try:\n",
    "#      #folium.GeoJson(data, \n",
    "#      #               name=\"Territories\").add_to(m)\n",
    "#      \n",
    "#      t = folium.GeoJson(list(parse_json[ii].values()))\n",
    "#      t.add_child(folium.Popup(list( parse_json[ii].values() )[2][\"Name\"]))\n",
    "#      t.add_to(m)\n",
    "#    except:\n",
    "#      pass\n",
    "\n",
    "# add the layers to toggle\n",
    "folium.LayerControl().add_to(m)\n",
    "\n",
    "# display\n",
    "m\n",
    "\n",
    "\n",
    "\n",
    "\n",
    "\n",
    "\n",
    "\n",
    "\n",
    "\n",
    "\n"
   ]
  },
  {
   "cell_type": "code",
   "execution_count": 6,
   "id": "b916c2d6",
   "metadata": {
    "execution": {
     "iopub.execute_input": "2022-09-19T22:40:51.388582Z",
     "iopub.status.busy": "2022-09-19T22:40:51.388350Z",
     "iopub.status.idle": "2022-09-19T22:40:51.856029Z",
     "shell.execute_reply": "2022-09-19T22:40:51.855319Z"
    },
    "lines_to_next_cell": 0
   },
   "outputs": [
    {
     "name": "stdout",
     "output_type": "stream",
     "text": [
      "1\n",
      "[[[-121.98348714, 50.079807], [-121.98939303, 50.08141176], [-121.9926059, 50.08191786], [-121.99447525, 50.08457391], [-121.99861452, 50.0842312], [-122.00035034, 50.08688712], [-122.00702659, 50.08765817], [-122.00809479, 50.08534499], [-122.01343579, 50.08457391], [-122.01936523, 50.08502238], [-122.0235045, 50.08527941], [-122.02897903, 50.0887063], [-122.03405297, 50.09410317], [-122.0271801, 50.10080763], [-121.98926508, 50.11117829], [-122.00097413, 50.12047422], [-121.99484082, 50.12619389], [-121.98536207, 50.13084063], [-121.98313177, 50.13512952], [-121.97421059, 50.14299148], [-121.96473184, 50.14191947], [-121.95135007, 50.14620737], [-121.94911978, 50.14978032], [-121.94131374, 50.15371027], [-121.94577433, 50.15728266], [-121.94744705, 50.16442665], [-121.93908345, 50.16799824], [-121.93406528, 50.16442665], [-121.90061086, 50.16228356], [-121.89615027, 50.16799824], [-121.89447755, 50.17371223], [-121.88890181, 50.17692605], [-121.90562902, 50.19156406], [-121.89057453, 50.19941675], [-121.8827685, 50.19870292], [-121.87552004, 50.20477011], [-121.86492614, 50.20584071], [-121.84209767, 50.20300343], [-121.81700685, 50.19657908], [-121.80697052, 50.18979688], [-121.79358875, 50.18158557], [-121.78522515, 50.1762296], [-121.76236462, 50.17587252], [-121.75567374, 50.18015737], [-121.74563741, 50.18051442], [-121.73169807, 50.17801499], [-121.65255825, 50.15434796], [-121.62469542, 50.13554803], [-121.57159727, 50.14536097], [-121.57102467, 50.14071159], [-121.50504838, 50.14214995], [-121.47726261, 50.12262294], [-121.45383503, 50.11125424], [-121.44964348, 50.0805227], [-121.47559941, 50.08780933], [-121.50461859, 50.07702104], [-121.54745425, 50.07582079], [-121.5408197, 50.05231945], [-121.62899705, 50.04988274], [-121.66165356, 50.06568481], [-121.66240746, 50.08070784], [-121.70617561, 50.07565095], [-121.7172567, 50.08785869], [-121.75525654, 50.09315759], [-121.84957288, 50.07636784], [-121.86669465, 50.04774476], [-121.90786015, 50.05171893], [-121.91084622, 50.05371193], [-121.90972486, 50.05738318], [-121.91457679, 50.06112955], [-121.91382537, 50.06334845], [-121.92035068, 50.07078251], [-121.92611997, 50.07234904], [-121.9371875, 50.07487774], [-121.9381899, 50.07713697], [-121.93966928, 50.07847787], [-121.94405902, 50.07932294], [-121.95035669, 50.07833143], [-121.94794937, 50.08453287], [-121.94935794, 50.0870615], [-121.95553637, 50.09066127], [-121.95837589, 50.09058868], [-121.95901923, 50.08647725], [-121.96704184, 50.08216855], [-121.9749391, 50.08361269], [-121.98348714, 50.079807]]]\n"
     ]
    }
   ],
   "source": [
    "# sort out geometry issues\n",
    "import matplotlib.pyplot as plt\n",
    "from shapely.geometry import shape, GeometryCollection\n",
    "\n",
    "#with open(data) as f:\n",
    "#  features = json.load(f)[\"features\"]\n",
    "num = 1\n",
    "print(num)\n",
    "df = pd.DataFrame(parse_json)\n",
    "df = df.iloc[num]\n",
    "\n",
    "#print(df.columns)\n",
    "#print(df.dtypes)\n",
    "df[\"geometry\"] = list(df[\"geometry\"].values())[0]\n",
    "#print(df[\"geometry\"])\n",
    "#df[\"geometry\"] = list(df[\"geometry\"].values())[0]\n",
    "#df[\"geometry\"] = df[\"geometry\"].astype(\"float\")\n",
    "#df.crs = \"epsg:4326\"\n",
    "#df.to_crs = {'init' :'epsg:4326'}\n",
    "#print(df.head())\n",
    "#print(df.dtypes)\n",
    "\n",
    "geo: dict = {\"type\": \"Polygon\",\n",
    "             \"coordinates\": df[\"geometry\"]}\n",
    "\n",
    "print(list(geo.values())[1])\n",
    "polygon: Polygon = shape(geo)\n",
    "\n",
    "C = polygon.exterior.coords.xy\n",
    "\n",
    "#print(C)\n",
    "\n",
    "# initialize a map\n",
    "m = folium.Map(location=[55, -122], \n",
    "               zoom_start=4, \n",
    "               tiles=\"openstreetmap\",\n",
    "               name=\"Road Map\")\n",
    "\n",
    "shapesLayer = folium.FeatureGroup(name=\"Territories\").add_to(m)\n",
    "\n",
    "folium.PolyLine(list(geo.values())[1],\n",
    "                color=\"red\",\n",
    "                weight=5).add_to(shapesLayer)\n",
    "\n",
    "folium.Polygon(list(geo.values())[1],\n",
    "               color=\"orange\",\n",
    "               weight=5,\n",
    "               fill=True,\n",
    "               fill_color=\"orange\",\n",
    "               fill_opacity=0.4).add_to(shapesLayer)\n",
    "\n",
    "# display the layer switcher widget\n",
    "folium.LayerControl().add_to(m)\n",
    "\n",
    "m\n",
    "\n",
    "# save the map object to be displayed on the home page\n",
    "m.save('canwest_flows.html')"
   ]
  },
  {
   "cell_type": "code",
   "execution_count": null,
   "id": "c93cc9d4",
   "metadata": {},
   "outputs": [],
   "source": []
  }
 ],
 "metadata": {
  "jupytext": {
   "cell_metadata_filter": "-all",
   "main_language": "python",
   "notebook_metadata_filter": "-all"
  },
  "language_info": {
   "codemirror_mode": {
    "name": "ipython",
    "version": 3
   },
   "file_extension": ".py",
   "mimetype": "text/x-python",
   "name": "python",
   "nbconvert_exporter": "python",
   "pygments_lexer": "ipython3",
   "version": "3.9.13"
  }
 },
 "nbformat": 4,
 "nbformat_minor": 5
}
