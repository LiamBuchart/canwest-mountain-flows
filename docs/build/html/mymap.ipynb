{
 "cells": [
  {
   "cell_type": "markdown",
   "id": "aa58d625",
   "metadata": {},
   "source": []
  },
  {
   "cell_type": "markdown",
   "id": "5a3c2968",
   "metadata": {},
   "source": [
    "# A Markdown cell\n",
    "- You can do all the fun stuff markdown has to offer"
   ]
  },
  {
   "cell_type": "markdown",
   "id": "245dba86",
   "metadata": {
    "lines_to_next_cell": 2
   },
   "source": [
    "## Another Markdown cell"
   ]
  },
  {
   "cell_type": "code",
   "execution_count": 1,
   "id": "5b4dc223",
   "metadata": {
    "execution": {
     "iopub.execute_input": "2022-09-15T05:13:25.179635Z",
     "iopub.status.busy": "2022-09-15T05:13:25.179334Z",
     "iopub.status.idle": "2022-09-15T05:13:27.232125Z",
     "shell.execute_reply": "2022-09-15T05:13:27.231466Z"
    },
    "lines_to_next_cell": 1
   },
   "outputs": [],
   "source": [
    "# This is a code cell\n",
    "import pandas as pd\n",
    "import plotly.express as pd\n",
    "\n",
    "class A():\n",
    "    def one():\n",
    "        return 1\n",
    "\n",
    "    def two():\n",
    "        return 2"
   ]
  },
  {
   "cell_type": "code",
   "execution_count": 2,
   "id": "daae533a",
   "metadata": {
    "execution": {
     "iopub.execute_input": "2022-09-15T05:13:27.235538Z",
     "iopub.status.busy": "2022-09-15T05:13:27.235020Z",
     "iopub.status.idle": "2022-09-15T05:13:27.239268Z",
     "shell.execute_reply": "2022-09-15T05:13:27.238733Z"
    }
   },
   "outputs": [
    {
     "name": "stdout",
     "output_type": "stream",
     "text": [
      "this is my list [0 1 2 3 4 5 6 7 8 9]\n"
     ]
    }
   ],
   "source": [
    "# This is another code cell\n",
    "import numpy as np\n",
    "\n",
    "mylist = np.arange(0,10)\n",
    "print(f\"this is my list {mylist}\")"
   ]
  }
 ],
 "metadata": {
  "jupytext": {
   "cell_metadata_filter": "-all",
   "main_language": "python",
   "notebook_metadata_filter": "-all"
  },
  "language_info": {
   "codemirror_mode": {
    "name": "ipython",
    "version": 3
   },
   "file_extension": ".py",
   "mimetype": "text/x-python",
   "name": "python",
   "nbconvert_exporter": "python",
   "pygments_lexer": "ipython3",
   "version": "3.9.13"
  }
 },
 "nbformat": 4,
 "nbformat_minor": 5
}
